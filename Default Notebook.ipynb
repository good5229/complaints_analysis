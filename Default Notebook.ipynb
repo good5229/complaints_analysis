{
 "cells": [
  {
   "cell_type": "markdown",
   "metadata": {},
   "source": [
    "# 민원데이터 분석\n",
    "\n",
    "민원데이터의 시각화분석을 통한 정책개선 아이디어 제시\n",
    "- □ 분석방법\n",
    "\n",
    "  ㅇ 국민권익위원회에서 제공하는 데이터를 활용하여 대한민국 국민의 민원 트렌드 분석 및 정책 개선에 기여할 수 있는 시각화 분석 \n",
    "  \n",
    "  ㅇ 대회에서 제공하는 데이터 外 민원 데이터와 융합하여 분석의 완성도를 높일 수 있는 개인/팀 별 수집 데이터* 활용 가능 \n",
    "     * SNS, 신문기사 및 각종 공개데이터 및 공공데이터 등 "
   ]
  },
  {
   "cell_type": "markdown",
   "metadata": {},
   "source": [
    "ㅇ 결과제출처: do231@korea.kr (제출마감일 18시까지 도착분에 한해 유효)"
   ]
  },
  {
   "cell_type": "markdown",
   "metadata": {},
   "source": [
    "## 사용가능 OPEN API 기능 목록\n",
    "- 급증 키워드 정보\n",
    "- 핵심 키워드 정보\n",
    "- 민원분석 분류체계 정보\n",
    "- 맞춤형 통계 정보\n",
    "- 키워드 트렌드 정보\n",
    "- 유사사례 정보\n",
    "- 연관어 분석 정보\n",
    "- 오늘의 민원 이슈\n",
    "- 민원발생 기관 순위\n",
    "- 민원발생 지역 순위\n",
    "- 키워드 기반 민원 건수 정보\n",
    "- 지역 인구수 대비 민원 현황 정보\n",
    "- 최다 민원 키워드 정보"
   ]
  },
  {
   "cell_type": "code",
   "execution_count": 1,
   "metadata": {},
   "outputs": [],
   "source": [
    "open_api_key = \"cjE984BWrGFH3DFA2kLDoNx7j950nWjp6Ajz0CBaEABY5arYHY1C80RNBw6ptmayEV6B0zzpOfAbB73miZ4gnA%3D%3D\""
   ]
  },
  {
   "cell_type": "code",
   "execution_count": 2,
   "metadata": {},
   "outputs": [],
   "source": [
    "import numpy as np\n",
    "import pandas as pd\n",
    "import matplotlib.pyplot as plt\n",
    "import seaborn as sns\n",
    "import re"
   ]
  },
  {
   "cell_type": "code",
   "execution_count": 3,
   "metadata": {},
   "outputs": [
    {
     "data": {
      "text/html": [
       "<div>\n",
       "<style scoped>\n",
       "    .dataframe tbody tr th:only-of-type {\n",
       "        vertical-align: middle;\n",
       "    }\n",
       "\n",
       "    .dataframe tbody tr th {\n",
       "        vertical-align: top;\n",
       "    }\n",
       "\n",
       "    .dataframe thead th {\n",
       "        text-align: right;\n",
       "    }\n",
       "</style>\n",
       "<table border=\"1\" class=\"dataframe\">\n",
       "  <thead>\n",
       "    <tr style=\"text-align: right;\">\n",
       "      <th></th>\n",
       "      <th>제목</th>\n",
       "      <th>질문내용</th>\n",
       "      <th>답변내용</th>\n",
       "      <th>등록일시</th>\n",
       "      <th>최상위기관명</th>\n",
       "      <th>분야코드</th>\n",
       "      <th>분야명</th>\n",
       "      <th>담당부서명</th>\n",
       "    </tr>\n",
       "  </thead>\n",
       "  <tbody>\n",
       "    <tr>\n",
       "      <th>0</th>\n",
       "      <td>의성군 귀농귀촌 정책 문의</td>\n",
       "      <td>의성군 귀농귀촌 정책 문의</td>\n",
       "      <td>1. 우선 저희 의성군으로 귀농·귀촌하고자 하셔서 감사합니다.\\n \\n2. 귀농·귀...</td>\n",
       "      <td>2021-08-27 오후 3:31:44</td>\n",
       "      <td>경상북도 의성군</td>\n",
       "      <td>20010010</td>\n",
       "      <td>행정/자치/안전</td>\n",
       "      <td>농업기술센터</td>\n",
       "    </tr>\n",
       "    <tr>\n",
       "      <th>1</th>\n",
       "      <td>불법주정차 신고합니다</td>\n",
       "      <td>5대 불법주정차 과태료 부과 대상</td>\n",
       "      <td>1. 귀하의 가정에 평안함과 행복을 기원합니다. 귀하께서 국민신문고로 요청하신 사항...</td>\n",
       "      <td>2021-08-27 오후 1:49:33</td>\n",
       "      <td>경상북도 의성군</td>\n",
       "      <td>20010010</td>\n",
       "      <td>행정/자치/안전</td>\n",
       "      <td>일자리창출과</td>\n",
       "    </tr>\n",
       "    <tr>\n",
       "      <th>2</th>\n",
       "      <td>아동수당 지급 대상</td>\n",
       "      <td>아동수당 지급 대상이 궁금합니다.</td>\n",
       "      <td>1. 안녕하십니까? 귀하께서 문의하신 질의에 대한 답변을 다음과 같이 알려드립니다....</td>\n",
       "      <td>2021-08-27 오후 4:19:51</td>\n",
       "      <td>경상북도 의성군</td>\n",
       "      <td>20010010</td>\n",
       "      <td>행정/자치/안전</td>\n",
       "      <td>복지과</td>\n",
       "    </tr>\n",
       "    <tr>\n",
       "      <th>3</th>\n",
       "      <td>광견병 예방 접종 관련 문의</td>\n",
       "      <td>광견병 예방접종 질문사항.\\n1. 의성군에서  광견병 접종 예방 계획이 있으신지요?...</td>\n",
       "      <td>안녕하십니까?\\n1. 귀하께서 국민신문고를 통해 신청하신 민원에 대한 검토 결과를 ...</td>\n",
       "      <td>2021-08-27 오후 4:18:09</td>\n",
       "      <td>경상북도 의성군</td>\n",
       "      <td>20010010</td>\n",
       "      <td>행정/자치/안전</td>\n",
       "      <td>농축산과</td>\n",
       "    </tr>\n",
       "    <tr>\n",
       "      <th>4</th>\n",
       "      <td>아동수당 지급 금액과 지급 일자</td>\n",
       "      <td>아동수당 지급 금액과 지급 일자가 궁금합니다.</td>\n",
       "      <td>1. 안녕하십니까? 귀하께서 문의하신 질의에 대한 답변을 다음과 같이 알려드립니다....</td>\n",
       "      <td>2021-08-27 오후 4:24:24</td>\n",
       "      <td>경상북도 의성군</td>\n",
       "      <td>20010010</td>\n",
       "      <td>행정/자치/안전</td>\n",
       "      <td>복지과</td>\n",
       "    </tr>\n",
       "  </tbody>\n",
       "</table>\n",
       "</div>"
      ],
      "text/plain": [
       "                  제목                                               질문내용  \\\n",
       "0     의성군 귀농귀촌 정책 문의                                     의성군 귀농귀촌 정책 문의   \n",
       "1        불법주정차 신고합니다                                 5대 불법주정차 과태료 부과 대상   \n",
       "2         아동수당 지급 대상                                 아동수당 지급 대상이 궁금합니다.   \n",
       "3    광견병 예방 접종 관련 문의  광견병 예방접종 질문사항.\\n1. 의성군에서  광견병 접종 예방 계획이 있으신지요?...   \n",
       "4  아동수당 지급 금액과 지급 일자                          아동수당 지급 금액과 지급 일자가 궁금합니다.   \n",
       "\n",
       "                                                답변내용                   등록일시  \\\n",
       "0  1. 우선 저희 의성군으로 귀농·귀촌하고자 하셔서 감사합니다.\\n \\n2. 귀농·귀...  2021-08-27 오후 3:31:44   \n",
       "1  1. 귀하의 가정에 평안함과 행복을 기원합니다. 귀하께서 국민신문고로 요청하신 사항...  2021-08-27 오후 1:49:33   \n",
       "2  1. 안녕하십니까? 귀하께서 문의하신 질의에 대한 답변을 다음과 같이 알려드립니다....  2021-08-27 오후 4:19:51   \n",
       "3  안녕하십니까?\\n1. 귀하께서 국민신문고를 통해 신청하신 민원에 대한 검토 결과를 ...  2021-08-27 오후 4:18:09   \n",
       "4  1. 안녕하십니까? 귀하께서 문의하신 질의에 대한 답변을 다음과 같이 알려드립니다....  2021-08-27 오후 4:24:24   \n",
       "\n",
       "     최상위기관명      분야코드       분야명   담당부서명  \n",
       "0  경상북도 의성군  20010010  행정/자치/안전  농업기술센터  \n",
       "1  경상북도 의성군  20010010  행정/자치/안전  일자리창출과  \n",
       "2  경상북도 의성군  20010010  행정/자치/안전     복지과  \n",
       "3  경상북도 의성군  20010010  행정/자치/안전    농축산과  \n",
       "4  경상북도 의성군  20010010  행정/자치/안전     복지과  "
      ]
     },
     "execution_count": 3,
     "metadata": {},
     "output_type": "execute_result"
    }
   ],
   "source": [
    "df = pd.read_excel('./civil_right_without_password.xlsx')\n",
    "df.head()"
   ]
  },
  {
   "cell_type": "code",
   "execution_count": 4,
   "metadata": {},
   "outputs": [],
   "source": [
    "punct = \"/-'?!.,#$%\\'()*+-/:;<=>@[\\\\]^_`{|}~\" + '\"\"“”’' + '∞θ÷α•à−β∅³π‘₹´°£€\\×™√²—–&' \n",
    "punct_mapping = {\"‘\": \"'\", \"₹\": \"e\", \"´\": \"'\", \"°\": \"\", \"€\": \"e\", \"™\": \"tm\", \"√\": \" sqrt \", \"×\": \"x\", \"²\": \"2\", \"—\": \"-\", \"–\": \"-\", \"’\": \"'\", \"_\": \"-\", \"`\": \"'\", '“': '\"', '”': '\"', '“': '\"', \"£\": \"e\", '∞': 'infinity', 'θ': 'theta', '÷': '/', 'α': 'alpha', '•': '.', 'à': 'a', '−': '-', 'β': 'beta', '∅': '', '³': '3', 'π': 'pi', } \n",
    "\n",
    "def clean_punc(text, punct, mapping): \n",
    "    for p in mapping: \n",
    "        text = text.replace(p, mapping[p]) \n",
    "        \n",
    "    for p in punct: \n",
    "        text = text.replace(p, f' {p} ') \n",
    "    \n",
    "    specials = {'\\u200b': ' ', '…': ' ... ', '\\ufeff': '', 'करना': '', 'है': ''} \n",
    "    for s in specials: \n",
    "        text = text.replace(s, specials[s]) \n",
    "        \n",
    "    return text.strip()\n",
    "\n",
    "def clean_text(texts): \n",
    "    corpus = [] \n",
    "    for i in range(0, len(texts)): \n",
    "        review = re.sub(r'[@%\\\\*=()/~#&\\+á?\\xc3\\xa1\\-\\|\\.\\:\\;\\!\\-\\,\\_\\~\\$\\'\\\"]', '',str(texts[i])) #remove punctuation \n",
    "        review = re.sub(r'\\d+','', str(texts[i]))# remove number \n",
    "        review = review.lower() #lower case \n",
    "        review = re.sub(r'\\s+', ' ', review) #remove extra space \n",
    "        review = re.sub(r'<[^>]+>','',review) #remove Html tags \n",
    "        review = re.sub(r'\\s+', ' ', review) #remove spaces \n",
    "        review = re.sub(r\"^\\s+\", '', review) #remove space from start \n",
    "        review = re.sub(r'\\s+$', '', review) #remove space from the end \n",
    "        \n",
    "        corpus.append(review) \n",
    "        \n",
    "        return corpus\n"
   ]
  },
  {
   "cell_type": "markdown",
   "metadata": {},
   "source": [
    "https://ebbnflow.tistory.com/246"
   ]
  },
  {
   "cell_type": "markdown",
   "metadata": {},
   "source": [
    "https://wikidocs.net/92961"
   ]
  },
  {
   "cell_type": "code",
   "execution_count": 5,
   "metadata": {},
   "outputs": [
    {
     "name": "stdout",
     "output_type": "stream",
     "text": [
      "Collecting git+https://github.com/haven-jeon/PyKoSpacing.git\n",
      "  Cloning https://github.com/haven-jeon/PyKoSpacing.git to c:\\users\\good5\\appdata\\local\\temp\\pip-req-build-juefg2yw\n",
      "Requirement already satisfied (use --upgrade to upgrade): pykospacing==0.5 from git+https://github.com/haven-jeon/PyKoSpacing.git in c:\\users\\good5\\anaconda3\\lib\\site-packages\n",
      "Requirement already satisfied: tensorflow==2.5.2 in c:\\users\\good5\\anaconda3\\lib\\site-packages (from pykospacing==0.5) (2.5.2)\n",
      "Requirement already satisfied: h5py==3.1.0 in c:\\users\\good5\\anaconda3\\lib\\site-packages (from pykospacing==0.5) (3.1.0)\n",
      "Requirement already satisfied: argparse>=1.4.0 in c:\\users\\good5\\anaconda3\\lib\\site-packages (from pykospacing==0.5) (1.4.0)\n",
      "Requirement already satisfied: termcolor~=1.1.0 in c:\\users\\good5\\anaconda3\\lib\\site-packages (from tensorflow==2.5.2->pykospacing==0.5) (1.1.0)\n",
      "Requirement already satisfied: grpcio~=1.34.0 in c:\\users\\good5\\anaconda3\\lib\\site-packages (from tensorflow==2.5.2->pykospacing==0.5) (1.34.1)\n",
      "Requirement already satisfied: six~=1.15.0 in c:\\users\\good5\\anaconda3\\lib\\site-packages (from tensorflow==2.5.2->pykospacing==0.5) (1.15.0)\n",
      "Requirement already satisfied: numpy~=1.19.2 in c:\\users\\good5\\anaconda3\\lib\\site-packages (from tensorflow==2.5.2->pykospacing==0.5) (1.19.5)\n",
      "Requirement already satisfied: google-pasta~=0.2 in c:\\users\\good5\\anaconda3\\lib\\site-packages (from tensorflow==2.5.2->pykospacing==0.5) (0.2.0)\n",
      "Requirement already satisfied: tensorflow-estimator<2.6.0,>=2.5.0 in c:\\users\\good5\\anaconda3\\lib\\site-packages (from tensorflow==2.5.2->pykospacing==0.5) (2.5.0)\n",
      "Requirement already satisfied: opt-einsum~=3.3.0 in c:\\users\\good5\\anaconda3\\lib\\site-packages (from tensorflow==2.5.2->pykospacing==0.5) (3.3.0)\n",
      "Requirement already satisfied: astunparse~=1.6.3 in c:\\users\\good5\\anaconda3\\lib\\site-packages (from tensorflow==2.5.2->pykospacing==0.5) (1.6.3)\n",
      "Requirement already satisfied: gast==0.4.0 in c:\\users\\good5\\anaconda3\\lib\\site-packages (from tensorflow==2.5.2->pykospacing==0.5) (0.4.0)\n",
      "Requirement already satisfied: protobuf>=3.9.2 in c:\\users\\good5\\anaconda3\\lib\\site-packages (from tensorflow==2.5.2->pykospacing==0.5) (3.17.0)\n",
      "Requirement already satisfied: keras-preprocessing~=1.1.2 in c:\\users\\good5\\anaconda3\\lib\\site-packages (from tensorflow==2.5.2->pykospacing==0.5) (1.1.2)\n",
      "Requirement already satisfied: keras-nightly~=2.5.0.dev in c:\\users\\good5\\anaconda3\\lib\\site-packages (from tensorflow==2.5.2->pykospacing==0.5) (2.5.0.dev2021032900)\n",
      "Requirement already satisfied: typing-extensions~=3.7.4 in c:\\users\\good5\\anaconda3\\lib\\site-packages (from tensorflow==2.5.2->pykospacing==0.5) (3.7.4.3)\n",
      "Requirement already satisfied: tensorboard~=2.5 in c:\\users\\good5\\anaconda3\\lib\\site-packages (from tensorflow==2.5.2->pykospacing==0.5) (2.5.0)\n",
      "Requirement already satisfied: wrapt~=1.12.1 in c:\\users\\good5\\anaconda3\\lib\\site-packages (from tensorflow==2.5.2->pykospacing==0.5) (1.12.1)\n",
      "Requirement already satisfied: wheel~=0.35 in c:\\users\\good5\\anaconda3\\lib\\site-packages (from tensorflow==2.5.2->pykospacing==0.5) (0.35.1)\n",
      "Requirement already satisfied: absl-py~=0.10 in c:\\users\\good5\\anaconda3\\lib\\site-packages (from tensorflow==2.5.2->pykospacing==0.5) (0.12.0)\n",
      "Requirement already satisfied: flatbuffers~=1.12.0 in c:\\users\\good5\\anaconda3\\lib\\site-packages (from tensorflow==2.5.2->pykospacing==0.5) (1.12)\n",
      "Requirement already satisfied: tensorboard-plugin-wit>=1.6.0 in c:\\users\\good5\\anaconda3\\lib\\site-packages (from tensorboard~=2.5->tensorflow==2.5.2->pykospacing==0.5) (1.8.0)\n",
      "Requirement already satisfied: setuptools>=41.0.0 in c:\\users\\good5\\anaconda3\\lib\\site-packages (from tensorboard~=2.5->tensorflow==2.5.2->pykospacing==0.5) (50.3.1.post20201107)\n",
      "Requirement already satisfied: google-auth-oauthlib<0.5,>=0.4.1 in c:\\users\\good5\\anaconda3\\lib\\site-packages (from tensorboard~=2.5->tensorflow==2.5.2->pykospacing==0.5) (0.4.4)\n",
      "Requirement already satisfied: markdown>=2.6.8 in c:\\users\\good5\\anaconda3\\lib\\site-packages (from tensorboard~=2.5->tensorflow==2.5.2->pykospacing==0.5) (3.3.4)\n",
      "Requirement already satisfied: google-auth<2,>=1.6.3 in c:\\users\\good5\\anaconda3\\lib\\site-packages (from tensorboard~=2.5->tensorflow==2.5.2->pykospacing==0.5) (1.30.0)\n",
      "Requirement already satisfied: requests<3,>=2.21.0 in c:\\users\\good5\\appdata\\roaming\\python\\python38\\site-packages (from tensorboard~=2.5->tensorflow==2.5.2->pykospacing==0.5) (2.26.0)\n",
      "Requirement already satisfied: werkzeug>=0.11.15 in c:\\users\\good5\\anaconda3\\lib\\site-packages (from tensorboard~=2.5->tensorflow==2.5.2->pykospacing==0.5) (1.0.1)\n",
      "Requirement already satisfied: tensorboard-data-server<0.7.0,>=0.6.0 in c:\\users\\good5\\anaconda3\\lib\\site-packages (from tensorboard~=2.5->tensorflow==2.5.2->pykospacing==0.5) (0.6.1)\n",
      "Requirement already satisfied: requests-oauthlib>=0.7.0 in c:\\users\\good5\\anaconda3\\lib\\site-packages (from google-auth-oauthlib<0.5,>=0.4.1->tensorboard~=2.5->tensorflow==2.5.2->pykospacing==0.5) (1.3.0)\n",
      "Requirement already satisfied: rsa<5,>=3.1.4; python_version >= \"3.6\" in c:\\users\\good5\\anaconda3\\lib\\site-packages (from google-auth<2,>=1.6.3->tensorboard~=2.5->tensorflow==2.5.2->pykospacing==0.5) (4.7.2)\n",
      "Requirement already satisfied: cachetools<5.0,>=2.0.0 in c:\\users\\good5\\anaconda3\\lib\\site-packages (from google-auth<2,>=1.6.3->tensorboard~=2.5->tensorflow==2.5.2->pykospacing==0.5) (4.2.2)\n",
      "Requirement already satisfied: pyasn1-modules>=0.2.1 in c:\\users\\good5\\anaconda3\\lib\\site-packages (from google-auth<2,>=1.6.3->tensorboard~=2.5->tensorflow==2.5.2->pykospacing==0.5) (0.2.8)\n",
      "Requirement already satisfied: idna<4,>=2.5; python_version >= \"3\" in c:\\users\\good5\\appdata\\roaming\\python\\python38\\site-packages (from requests<3,>=2.21.0->tensorboard~=2.5->tensorflow==2.5.2->pykospacing==0.5) (3.2)\n",
      "Requirement already satisfied: charset-normalizer~=2.0.0; python_version >= \"3\" in c:\\users\\good5\\appdata\\roaming\\python\\python38\\site-packages (from requests<3,>=2.21.0->tensorboard~=2.5->tensorflow==2.5.2->pykospacing==0.5) (2.0.3)\n",
      "Requirement already satisfied: certifi>=2017.4.17 in c:\\users\\good5\\appdata\\roaming\\python\\python38\\site-packages (from requests<3,>=2.21.0->tensorboard~=2.5->tensorflow==2.5.2->pykospacing==0.5) (2021.5.30)\n",
      "Requirement already satisfied: urllib3<1.27,>=1.21.1 in c:\\users\\good5\\appdata\\roaming\\python\\python38\\site-packages (from requests<3,>=2.21.0->tensorboard~=2.5->tensorflow==2.5.2->pykospacing==0.5) (1.26.6)\n",
      "Requirement already satisfied: oauthlib>=3.0.0 in c:\\users\\good5\\anaconda3\\lib\\site-packages (from requests-oauthlib>=0.7.0->google-auth-oauthlib<0.5,>=0.4.1->tensorboard~=2.5->tensorflow==2.5.2->pykospacing==0.5) (3.1.0)\n",
      "Requirement already satisfied: pyasn1>=0.1.3 in c:\\users\\good5\\anaconda3\\lib\\site-packages (from rsa<5,>=3.1.4; python_version >= \"3.6\"->google-auth<2,>=1.6.3->tensorboard~=2.5->tensorflow==2.5.2->pykospacing==0.5) (0.4.8)\n",
      "Building wheels for collected packages: pykospacing\n",
      "  Building wheel for pykospacing (setup.py): started\n",
      "  Building wheel for pykospacing (setup.py): finished with status 'done'\n",
      "  Created wheel for pykospacing: filename=pykospacing-0.5-py3-none-any.whl size=2268598 sha256=a6cf813f5246d17dfa90fb08301b873345dded2f1d2583f2f64eece2d3666872\n",
      "  Stored in directory: C:\\Users\\good5\\AppData\\Local\\Temp\\pip-ephem-wheel-cache-tid96_bu\\wheels\\79\\a0\\33\\16f2cd03d21f76a663f5d69a0b96f0351335385349136fbd03\n",
      "Successfully built pykospacing\n"
     ]
    }
   ],
   "source": []
  },
  {
   "cell_type": "code",
   "execution_count": 6,
   "metadata": {},
   "outputs": [
    {
     "ename": "ImportError",
     "evalue": "cannot import name 'spacing' from 'pykospacing' (C:\\Users\\good5\\Anaconda3\\lib\\site-packages\\pykospacing\\__init__.py)",
     "output_type": "error",
     "traceback": [
      "\u001b[1;31m---------------------------------------------------------------------------\u001b[0m",
      "\u001b[1;31mImportError\u001b[0m                               Traceback (most recent call last)",
      "\u001b[1;32m<ipython-input-6-6c5cf9e59f47>\u001b[0m in \u001b[0;36m<module>\u001b[1;34m\u001b[0m\n\u001b[1;32m----> 1\u001b[1;33m \u001b[1;32mfrom\u001b[0m \u001b[0mpykospacing\u001b[0m \u001b[1;32mimport\u001b[0m \u001b[0mspacing\u001b[0m\u001b[1;33m\u001b[0m\u001b[1;33m\u001b[0m\u001b[0m\n\u001b[0m",
      "\u001b[1;31mImportError\u001b[0m: cannot import name 'spacing' from 'pykospacing' (C:\\Users\\good5\\Anaconda3\\lib\\site-packages\\pykospacing\\__init__.py)"
     ]
    }
   ],
   "source": [
    "from pykospacing import spacing"
   ]
  },
  {
   "cell_type": "code",
   "execution_count": null,
   "metadata": {},
   "outputs": [],
   "source": [
    "print(spacing(\"김형호영화시장분석가는'1987'의네이버영화정보네티즌10점평에서언급된단어들을지난해12월27일부터올해1월10일까지통계프로그램R과KoNLP패키지로텍스트마이닝하여분석했다.\"))"
   ]
  },
  {
   "cell_type": "code",
   "execution_count": null,
   "metadata": {},
   "outputs": [],
   "source": [
    "!pip install kss"
   ]
  },
  {
   "cell_type": "code",
   "execution_count": null,
   "metadata": {},
   "outputs": [],
   "source": [
    "import kss \n",
    "\n",
    "s = \"회사 동료 분들과 다녀왔는데 분위기도 좋고 음식도 맛있었어요 다만, 강남 토끼정이 강남 쉑쉑버거 골목길로 쭉 올라가야 하는데 다들 쉑쉑버거의 유혹에 넘어갈 뻔 했답니다 강남역 맛집 토끼정의 외부 모습.\" \n",
    "for sent in kss.split_sentences(s): \n",
    "    print(sent)"
   ]
  },
  {
   "cell_type": "code",
   "execution_count": null,
   "metadata": {},
   "outputs": [],
   "source": [
    "pip install py-hanspell"
   ]
  },
  {
   "cell_type": "code",
   "execution_count": null,
   "metadata": {},
   "outputs": [],
   "source": [
    "from hanspell import spell_checker\n",
    "\n",
    "result = spell_checker.check(u'안녕 하세요. 저는 한국인 입니다. 이문장은 한글로 작성됬습니다.') \n",
    "result.as_dict() # dict로 출력\n"
   ]
  },
  {
   "cell_type": "code",
   "execution_count": null,
   "metadata": {},
   "outputs": [],
   "source": []
  }
 ],
 "metadata": {
  "kernelspec": {
   "display_name": "Python 3",
   "language": "python",
   "name": "python3"
  },
  "language_info": {
   "codemirror_mode": {
    "name": "ipython",
    "version": 3
   },
   "file_extension": ".py",
   "mimetype": "text/x-python",
   "name": "python",
   "nbconvert_exporter": "python",
   "pygments_lexer": "ipython3",
   "version": "3.8.5"
  }
 },
 "nbformat": 4,
 "nbformat_minor": 4
}
