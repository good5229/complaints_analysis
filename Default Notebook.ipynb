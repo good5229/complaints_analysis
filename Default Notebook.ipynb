{
 "cells": [
  {
   "cell_type": "markdown",
   "metadata": {},
   "source": [
    "# 민원데이터 분석\n",
    "\n",
    "민원데이터의 시각화분석을 통한 정책개선 아이디어 제시\n",
    "- □ 분석방법\n",
    "\n",
    "  ㅇ 국민권익위원회에서 제공하는 데이터를 활용하여 대한민국 국민의 민원 트렌드 분석 및 정책 개선에 기여할 수 있는 시각화 분석 \n",
    "  \n",
    "  ㅇ 대회에서 제공하는 데이터 外 민원 데이터와 융합하여 분석의 완성도를 높일 수 있는 개인/팀 별 수집 데이터* 활용 가능 \n",
    "     * SNS, 신문기사 및 각종 공개데이터 및 공공데이터 등 "
   ]
  },
  {
   "cell_type": "markdown",
   "metadata": {},
   "source": [
    "ㅇ 결과제출처: do231@korea.kr (제출마감일 18시까지 도착분에 한해 유효)"
   ]
  },
  {
   "cell_type": "markdown",
   "metadata": {},
   "source": [
    "## 사용가능 OPEN API 기능 목록\n",
    "- 급증 키워드 정보\n",
    "- 핵심 키워드 정보\n",
    "- 민원분석 분류체계 정보\n",
    "- 맞춤형 통계 정보\n",
    "- 키워드 트렌드 정보\n",
    "- 유사사례 정보\n",
    "- 연관어 분석 정보\n",
    "- 오늘의 민원 이슈\n",
    "- 민원발생 기관 순위\n",
    "- 민원발생 지역 순위\n",
    "- 키워드 기반 민원 건수 정보\n",
    "- 지역 인구수 대비 민원 현황 정보\n",
    "- 최다 민원 키워드 정보"
   ]
  },
  {
   "cell_type": "code",
   "execution_count": 5,
   "metadata": {},
   "outputs": [],
   "source": [
    "open_api_key = \"cjE984BWrGFH3DFA2kLDoNx7j950nWjp6Ajz0CBaEABY5arYHY1C80RNBw6ptmayEV6B0zzpOfAbB73miZ4gnA%3D%3D\""
   ]
  },
  {
   "cell_type": "code",
   "execution_count": 6,
   "metadata": {},
   "outputs": [],
   "source": [
    "import numpy as np\n",
    "import pandas as pd\n",
    "import matplotlib.pyplot as plt\n",
    "import seaborn as sns"
   ]
  },
  {
   "cell_type": "code",
   "execution_count": 10,
   "metadata": {},
   "outputs": [
    {
     "data": {
      "text/html": [
       "<div>\n",
       "<style scoped>\n",
       "    .dataframe tbody tr th:only-of-type {\n",
       "        vertical-align: middle;\n",
       "    }\n",
       "\n",
       "    .dataframe tbody tr th {\n",
       "        vertical-align: top;\n",
       "    }\n",
       "\n",
       "    .dataframe thead th {\n",
       "        text-align: right;\n",
       "    }\n",
       "</style>\n",
       "<table border=\"1\" class=\"dataframe\">\n",
       "  <thead>\n",
       "    <tr style=\"text-align: right;\">\n",
       "      <th></th>\n",
       "      <th>제목</th>\n",
       "      <th>질문내용</th>\n",
       "      <th>답변내용</th>\n",
       "      <th>등록일시</th>\n",
       "      <th>최상위기관명</th>\n",
       "      <th>분야코드</th>\n",
       "      <th>분야명</th>\n",
       "      <th>담당부서명</th>\n",
       "    </tr>\n",
       "  </thead>\n",
       "  <tbody>\n",
       "    <tr>\n",
       "      <th>0</th>\n",
       "      <td>의성군 귀농귀촌 정책 문의</td>\n",
       "      <td>의성군 귀농귀촌 정책 문의</td>\n",
       "      <td>1. 우선 저희 의성군으로 귀농·귀촌하고자 하셔서 감사합니다.\\n \\n2. 귀농·귀...</td>\n",
       "      <td>2021-08-27 오후 3:31:44</td>\n",
       "      <td>경상북도 의성군</td>\n",
       "      <td>20010010</td>\n",
       "      <td>행정/자치/안전</td>\n",
       "      <td>농업기술센터</td>\n",
       "    </tr>\n",
       "    <tr>\n",
       "      <th>1</th>\n",
       "      <td>불법주정차 신고합니다</td>\n",
       "      <td>5대 불법주정차 과태료 부과 대상</td>\n",
       "      <td>1. 귀하의 가정에 평안함과 행복을 기원합니다. 귀하께서 국민신문고로 요청하신 사항...</td>\n",
       "      <td>2021-08-27 오후 1:49:33</td>\n",
       "      <td>경상북도 의성군</td>\n",
       "      <td>20010010</td>\n",
       "      <td>행정/자치/안전</td>\n",
       "      <td>일자리창출과</td>\n",
       "    </tr>\n",
       "    <tr>\n",
       "      <th>2</th>\n",
       "      <td>아동수당 지급 대상</td>\n",
       "      <td>아동수당 지급 대상이 궁금합니다.</td>\n",
       "      <td>1. 안녕하십니까? 귀하께서 문의하신 질의에 대한 답변을 다음과 같이 알려드립니다....</td>\n",
       "      <td>2021-08-27 오후 4:19:51</td>\n",
       "      <td>경상북도 의성군</td>\n",
       "      <td>20010010</td>\n",
       "      <td>행정/자치/안전</td>\n",
       "      <td>복지과</td>\n",
       "    </tr>\n",
       "    <tr>\n",
       "      <th>3</th>\n",
       "      <td>광견병 예방 접종 관련 문의</td>\n",
       "      <td>광견병 예방접종 질문사항.\\n1. 의성군에서  광견병 접종 예방 계획이 있으신지요?...</td>\n",
       "      <td>안녕하십니까?\\n1. 귀하께서 국민신문고를 통해 신청하신 민원에 대한 검토 결과를 ...</td>\n",
       "      <td>2021-08-27 오후 4:18:09</td>\n",
       "      <td>경상북도 의성군</td>\n",
       "      <td>20010010</td>\n",
       "      <td>행정/자치/안전</td>\n",
       "      <td>농축산과</td>\n",
       "    </tr>\n",
       "    <tr>\n",
       "      <th>4</th>\n",
       "      <td>아동수당 지급 금액과 지급 일자</td>\n",
       "      <td>아동수당 지급 금액과 지급 일자가 궁금합니다.</td>\n",
       "      <td>1. 안녕하십니까? 귀하께서 문의하신 질의에 대한 답변을 다음과 같이 알려드립니다....</td>\n",
       "      <td>2021-08-27 오후 4:24:24</td>\n",
       "      <td>경상북도 의성군</td>\n",
       "      <td>20010010</td>\n",
       "      <td>행정/자치/안전</td>\n",
       "      <td>복지과</td>\n",
       "    </tr>\n",
       "  </tbody>\n",
       "</table>\n",
       "</div>"
      ],
      "text/plain": [
       "                  제목                                               질문내용  \\\n",
       "0     의성군 귀농귀촌 정책 문의                                     의성군 귀농귀촌 정책 문의   \n",
       "1        불법주정차 신고합니다                                 5대 불법주정차 과태료 부과 대상   \n",
       "2         아동수당 지급 대상                                 아동수당 지급 대상이 궁금합니다.   \n",
       "3    광견병 예방 접종 관련 문의  광견병 예방접종 질문사항.\\n1. 의성군에서  광견병 접종 예방 계획이 있으신지요?...   \n",
       "4  아동수당 지급 금액과 지급 일자                          아동수당 지급 금액과 지급 일자가 궁금합니다.   \n",
       "\n",
       "                                                답변내용                   등록일시  \\\n",
       "0  1. 우선 저희 의성군으로 귀농·귀촌하고자 하셔서 감사합니다.\\n \\n2. 귀농·귀...  2021-08-27 오후 3:31:44   \n",
       "1  1. 귀하의 가정에 평안함과 행복을 기원합니다. 귀하께서 국민신문고로 요청하신 사항...  2021-08-27 오후 1:49:33   \n",
       "2  1. 안녕하십니까? 귀하께서 문의하신 질의에 대한 답변을 다음과 같이 알려드립니다....  2021-08-27 오후 4:19:51   \n",
       "3  안녕하십니까?\\n1. 귀하께서 국민신문고를 통해 신청하신 민원에 대한 검토 결과를 ...  2021-08-27 오후 4:18:09   \n",
       "4  1. 안녕하십니까? 귀하께서 문의하신 질의에 대한 답변을 다음과 같이 알려드립니다....  2021-08-27 오후 4:24:24   \n",
       "\n",
       "     최상위기관명      분야코드       분야명   담당부서명  \n",
       "0  경상북도 의성군  20010010  행정/자치/안전  농업기술센터  \n",
       "1  경상북도 의성군  20010010  행정/자치/안전  일자리창출과  \n",
       "2  경상북도 의성군  20010010  행정/자치/안전     복지과  \n",
       "3  경상북도 의성군  20010010  행정/자치/안전    농축산과  \n",
       "4  경상북도 의성군  20010010  행정/자치/안전     복지과  "
      ]
     },
     "execution_count": 10,
     "metadata": {},
     "output_type": "execute_result"
    }
   ],
   "source": [
    "df = pd.read_excel('./civil_right_without_password.xlsx')\n",
    "df.head()"
   ]
  },
  {
   "cell_type": "code",
   "execution_count": null,
   "metadata": {},
   "outputs": [],
   "source": []
  }
 ],
 "metadata": {
  "kernelspec": {
   "display_name": "Python 3",
   "language": "python",
   "name": "python3"
  },
  "language_info": {
   "codemirror_mode": {
    "name": "ipython",
    "version": 3
   },
   "file_extension": ".py",
   "mimetype": "text/x-python",
   "name": "python",
   "nbconvert_exporter": "python",
   "pygments_lexer": "ipython3",
   "version": "3.8.5"
  }
 },
 "nbformat": 4,
 "nbformat_minor": 4
}
